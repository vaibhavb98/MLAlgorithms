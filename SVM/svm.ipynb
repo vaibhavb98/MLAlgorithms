{
 "cells": [
  {
   "cell_type": "code",
   "execution_count": 4,
   "metadata": {},
   "outputs": [],
   "source": [
    "import numpy as np\n",
    "import matplotlib.pyplot as plt\n",
    "%matplotlib inline"
   ]
  },
  {
   "cell_type": "code",
   "execution_count": 75,
   "metadata": {},
   "outputs": [],
   "source": [
    "#Input data - Of the form [X value, Y value, Bias term]\n",
    "X = np.array([\n",
    "    [-2,4,-1],\n",
    "    [4,1,-1],\n",
    "    [1, 6, -1],\n",
    "    [2, 4, -1],\n",
    "    [6, 2, -1],\n",
    "])\n",
    "\n",
    "#Associated output labels - First 2 examples are labeled '-1' and last 3 are labeled '+1'\n",
    "y = np.array([-1,-1,1,1,1])"
   ]
  },
  {
   "cell_type": "code",
   "execution_count": 58,
   "metadata": {},
   "outputs": [
    {
     "data": {
      "text/plain": [
       "[<matplotlib.lines.Line2D at 0x7f15346c6550>]"
      ]
     },
     "execution_count": 58,
     "metadata": {},
     "output_type": "execute_result"
    },
    {
     "data": {
      "image/png": "[encoded data removed]",
      "text/plain": [
       "<Figure size 432x288 with 1 Axes>"
      ]
     },
     "metadata": {},
     "output_type": "display_data"
    }
   ],
   "source": [
    "for d, samples in enumerate(X):\n",
    "    if y[d] == -1:\n",
    "        plt.scatter(samples[0], samples[1], marker='_', s=150)\n",
    "    else:\n",
    "        plt.scatter(samples[0], samples[1], marker='+', s=150)\n",
    "plt.plot([-2, 6], [6, 0.5])"
   ]
  },
  {
   "cell_type": "code",
   "execution_count": 59,
   "metadata": {},
   "outputs": [],
   "source": [
    "def SVM_Fit(X, Y):\n",
    "    epochs = 100000\n",
    "\n",
    "    learning_rate = 0.1\n",
    "    \n",
    "    weights = np.zeros(len(X[0]))\n",
    "    \n",
    "    for epoch in range(1, epochs):\n",
    "        for i, x in enumerate(X):\n",
    "            if Y[i] * np.dot(X[i], weights) < 1:\n",
    "                weights = weights + learning_rate * ( X[i]*Y[i] - 2 * i * weights / epoch )\n",
    "            else:\n",
    "                weights = weights + learning_rate * ( -2 * i * weights / epoch )\n",
    "    return weights"
   ]
  },
  {
   "cell_type": "code",
   "execution_count": 72,
   "metadata": {},
   "outputs": [
    {
     "name": "stdout",
     "output_type": "stream",
     "text": [
      "[0.72871279 1.21403365 5.15812149]\n"
     ]
    }
   ],
   "source": [
    "w = SVM_Fit(X, y)\n",
    "print(w)"
   ]
  },
  {
   "cell_type": "code",
   "execution_count": 78,
   "metadata": {},
   "outputs": [
    {
     "data": {
      "text/plain": [
       "<matplotlib.collections.PathCollection at 0x7f1534543f98>"
      ]
     },
     "execution_count": 78,
     "metadata": {},
     "output_type": "execute_result"
    },
    {
     "data": {
      "image/png": "[encoded data removed]",
      "text/plain": [
       "<Figure size 432x288 with 1 Axes>"
      ]
     },
     "metadata": {},
     "output_type": "display_data"
    }
   ],
   "source": [
    "for d, samples in enumerate(X):\n",
    "    if d < 2:\n",
    "        plt.scatter(samples[0], samples[1], marker='_', s=150)\n",
    "    else:\n",
    "        plt.scatter(samples[0], samples[1], marker='+', s=150)\n",
    "        \n",
    "plt.scatter(2,2, s=120, marker='_', linewidths=2, color='black')\n",
    "plt.scatter(4,3, s=120, marker='+', linewidths=2, color='black')"
   ]
  },
  {
   "cell_type": "code",
   "execution_count": 83,
   "metadata": {},
   "outputs": [
    {
     "name": "stdout",
     "output_type": "stream",
     "text": [
      "[-1.2726286047827422, 1.3988306324542785]\n"
     ]
    },
    {
     "data": {
      "image/png": "[encoded data removed]",
      "text/plain": [
       "<Figure size 432x288 with 1 Axes>"
      ]
     },
     "metadata": {},
     "output_type": "display_data"
    }
   ],
   "source": [
    "for d, samples in enumerate(X):\n",
    "    if d < 2:\n",
    "        plt.scatter(samples[0], samples[1], marker='_', s=150)\n",
    "    else:\n",
    "        plt.scatter(samples[0], samples[1], marker='+', s=150)\n",
    "s = [[2, 2, -1], [4, 3, -1]]\n",
    "t = [-1, 1]\n",
    "p = []\n",
    "for x in s:\n",
    "    p.append(np.dot(x, w))\n",
    "m1 = '_' if p[0] < 0 else '+'\n",
    "m2 = '_' if p[1] < 0 else '+'\n",
    "\n",
    "plt.scatter(2,2, s=120, marker=m1, linewidths=2, color='pink')\n",
    "plt.scatter(4,3, s=120, marker=m2, linewidths=2, color='pink')\n",
    "print(p)"
   ]
  }
 ],
 "metadata": {
  "kernelspec": {
   "display_name": "Python 3",
   "language": "python",
   "name": "python3"
  },
  "language_info": {
   "codemirror_mode": {
    "name": "ipython",
    "version": 3
   },
   "file_extension": ".py",
   "mimetype": "text/x-python",
   "name": "python",
   "nbconvert_exporter": "python",
   "pygments_lexer": "ipython3",
   "version": "3.6.5"
  }
 },
 "nbformat": 4,
 "nbformat_minor": 2
}
