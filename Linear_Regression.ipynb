{
  "nbformat": 4,
  "nbformat_minor": 0,
  "metadata": {
    "colab": {
      "name": "Linear Regression.ipynb",
      "version": "0.3.2",
      "provenance": [],
      "include_colab_link": true
    },
    "kernelspec": {
      "name": "python3",
      "display_name": "Python 3"
    }
  },
  "cells": [
    {
      "cell_type": "markdown",
      "metadata": {
        "id": "view-in-github",
        "colab_type": "text"
      },
      "source": [
        "<a href=\"https://colab.research.google.com/github/vaibhavbhawalkar/MLAlgorithms/blob/master/Linear_Regression.ipynb\" target=\"_parent\"><img src=\"https://colab.research.google.com/assets/colab-badge.svg\" alt=\"Open In Colab\"/></a>"
      ]
    },
    {
      "metadata": {
        "id": "IkVDUbviZK43",
        "colab_type": "code",
        "colab": {}
      },
      "cell_type": "code",
      "source": [
        "import matplotlib.pyplot as plt\n",
        "import numpy as np\n",
        "import pandas as pd\n",
        "import sklearn.datasets as skds\n",
        "import sklearn.preprocessing as pp\n",
        "from sklearn.model_selection import train_test_split\n",
        "\n"
      ],
      "execution_count": 0,
      "outputs": []
    },
    {
      "metadata": {
        "id": "JPioioB7ZOs6",
        "colab_type": "code",
        "colab": {
          "base_uri": "https://localhost:8080/",
          "height": 170
        },
        "outputId": "6d3257ba-4d6d-4468-9dbf-9d5b73ef6519"
      },
      "cell_type": "code",
      "source": [
        "dataset = skds.load_boston()\n",
        "\n",
        "df = pd.DataFrame(dataset['data'])\n",
        "df.columns = dataset['feature_names']\n",
        "X = df.values\n",
        "mms = pp.MinMaxScaler()\n",
        "X = mms.fit_transform(X)\n",
        "print(pd.DataFrame(X).head(3))\n"
      ],
      "execution_count": 9,
      "outputs": [
        {
          "output_type": "stream",
          "text": [
            "         0     1         2    3         4         5         6         7   \\\n",
            "0  0.000000  0.18  0.067815  0.0  0.314815  0.577505  0.641607  0.269203   \n",
            "1  0.000236  0.00  0.242302  0.0  0.172840  0.547998  0.782698  0.348962   \n",
            "2  0.000236  0.00  0.242302  0.0  0.172840  0.694386  0.599382  0.348962   \n",
            "\n",
            "         8         9         10        11        12  \n",
            "0  0.000000  0.208015  0.287234  1.000000  0.089680  \n",
            "1  0.043478  0.104962  0.553191  1.000000  0.204470  \n",
            "2  0.043478  0.104962  0.553191  0.989737  0.063466  \n"
          ],
          "name": "stdout"
        }
      ]
    },
    {
      "metadata": {
        "id": "Z4qseblnZTml",
        "colab_type": "code",
        "colab": {}
      },
      "cell_type": "code",
      "source": [
        "\n",
        "from math import floor\n",
        "\n",
        "\n",
        "def LinearRegressor(X, y, inital_weight=0, initial_bias=0, n_batch=43, epochs=100, learning_rate=0.01):\n",
        "    N, weight, bias, cost = float(len(y)), inital_weight, initial_bias, None\n",
        "    x = X.reshape(n_batch, floor(len(X)/n_batch))\n",
        "    for i in range(epochs):\n",
        "        for Xi in X:\n",
        "            y_pred = (weight * Xi) + bias\n",
        "            diff = (y - y_pred)\n",
        "            cost = sum([x**2 for x in diff]) / N\n",
        "            weight_gradient = (-2 / N) * (sum([x for x in diff*Xi]))\n",
        "            bias_gradient = (-2 / N) * (sum([x for x in diff]))\n",
        "            weight -= learning_rate * weight_gradient\n",
        "            bias -= learning_rate * bias_gradient\n",
        "    return weight, bias, cost\n",
        "\n",
        "\n"
      ],
      "execution_count": 0,
      "outputs": []
    },
    {
      "metadata": {
        "id": "-iphzwftZWNy",
        "colab_type": "code",
        "colab": {}
      },
      "cell_type": "code",
      "source": [
        "X_train, x_test, y_train, y_test = train_test_split(\n",
        "    X, dataset['target'] * 1000, test_size=0.15)\n",
        "\n",
        "X_train, x_test = np.array([sum(x) for x in X_train]), np.array([\n",
        "    sum(x) for x in x_test])\n",
        "\n"
      ],
      "execution_count": 0,
      "outputs": []
    },
    {
      "metadata": {
        "id": "qYVZSSOKZYo8",
        "colab_type": "code",
        "colab": {}
      },
      "cell_type": "code",
      "source": [
        "weight, bias, cost = LinearRegressor(X_train, y_train)\n",
        "\n",
        "y_pred = weight * x_test + bias\n",
        "\n"
      ],
      "execution_count": 0,
      "outputs": []
    },
    {
      "metadata": {
        "id": "xJ0SD346Zaa0",
        "colab_type": "code",
        "colab": {
          "base_uri": "https://localhost:8080/",
          "height": 361
        },
        "outputId": "2a43e389-336a-4b0a-8473-e5f801c5fcb7"
      },
      "cell_type": "code",
      "source": [
        "plt.scatter(x_test, y_test)\n",
        "plt.plot(x_test, y_pred, color='red')\n",
        "plt.xlabel('Actual Price ($)')\n",
        "plt.ylabel('Predicted Price ($)')\n",
        "plt.show()"
      ],
      "execution_count": 7,
      "outputs": [
        {
          "output_type": "display_data",
          "data": {
            "image/png": "[encoded data removed]",
            "text/plain": [
              "<matplotlib.figure.Figure at 0x7feb2e959b70>"
            ]
          },
          "metadata": {
            "tags": []
          }
        }
      ]
    },
    {
      "metadata": {
        "id": "E9KAN1ySZbF1",
        "colab_type": "code",
        "colab": {}
      },
      "cell_type": "code",
      "source": [
        ""
      ],
      "execution_count": 0,
      "outputs": []
    }
  ]
}